{
  "cells": [
    {
      "cell_type": "code",
      "execution_count": null,
      "metadata": {},
      "outputs": [],
      "source": [
        "# Install\n",
        "\n",
        "!git clone https://github.com/sebastien-ethereum/BenchMARL\n",
        "%cd /content/BenchMARL\n",
        "!pip install -e ."
      ]
    },
    {
      "cell_type": "code",
      "execution_count": null,
      "metadata": {
        "id": "EYBjbOPdVQVM"
      },
      "outputs": [],
      "source": [
        "# Refresh git repo\n",
        "\n",
        "%cd /content/BenchMARL\n",
        "!git stash\n",
        "!git pull"
      ]
    },
    {
      "cell_type": "code",
      "execution_count": null,
      "metadata": {
        "id": "4n2y3DRTUoyx"
      },
      "outputs": [],
      "source": [
        "# Environment sanity check\n",
        "\n",
        "from torchrl.envs.utils import check_env_specs\n",
        "from benchmarl.environments.auction1.env import Auction1Env\n",
        "\n",
        "env = Auction1Env(num_envs=100, seed=0, device=\"cpu\")\n",
        "check_env_specs(env)"
      ]
    },
    {
      "cell_type": "code",
      "execution_count": null,
      "metadata": {
        "id": "Rnp_Exafswip"
      },
      "outputs": [],
      "source": [
        "# Experiment\n",
        "\n",
        "from benchmarl.environments import Auction1Task\n",
        "from benchmarl.algorithms import IppoConfig\n",
        "from benchmarl.models.mlp import MlpConfig\n",
        "from benchmarl.experiment import ExperimentConfig, Experiment\n",
        "from benchmarl.callbacks.npc_eval_callback import NpcEvalCallback\n",
        "\n",
        "seed = 1\n",
        "\n",
        "task              = Auction1Task.AUCTION1.get_from_yaml()\n",
        "algorithm_config  = IppoConfig.get_from_yaml()\n",
        "model_config      = MlpConfig.get_from_yaml()\n",
        "experiment_config = ExperimentConfig.get_from_yaml()\n",
        "\n",
        "task.update_config({\n",
        "    \"num_agents\": 10,\n",
        "    \"npcs\": {},\n",
        "})\n",
        "\n",
        "model_config.num_cells = [8]\n",
        "\n",
        "experiment_config.on_policy_n_envs_per_worker = 6000\n",
        "experiment_config.off_policy_n_envs_per_worker = 6000\n",
        "experiment_config.evaluation_episodes = 6000\n",
        "experiment_config.evaluation_interval = 60000\n",
        "\n",
        "experiment_config.loggers = [\"wandb\"]\n",
        "\n",
        "callbacks = [NpcEvalCallback()]\n",
        "\n",
        "experiment = Experiment(\n",
        "    task             = task,\n",
        "    algorithm_config = algorithm_config,\n",
        "    model_config     = model_config,\n",
        "    seed             = seed,\n",
        "    config           = experiment_config,\n",
        "    callbacks        = callbacks,\n",
        ")\n",
        "\n",
        "experiment.run()"
      ]
    }
  ],
  "metadata": {
    "colab": {
      "provenance": []
    },
    "kernelspec": {
      "display_name": "Python 3",
      "name": "python3"
    },
    "language_info": {
      "name": "python"
    }
  },
  "nbformat": 4,
  "nbformat_minor": 0
}
